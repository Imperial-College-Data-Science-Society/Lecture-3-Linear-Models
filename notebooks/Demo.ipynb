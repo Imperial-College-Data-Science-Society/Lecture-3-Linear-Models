{
 "cells": [
  {
   "cell_type": "markdown",
   "metadata": {},
   "source": [
    "# Demo: Linear Models"
   ]
  },
  {
   "cell_type": "markdown",
   "metadata": {},
   "source": [
    "Essential libraries for linear algebra operations and visualization."
   ]
  },
  {
   "cell_type": "code",
   "execution_count": 2,
   "metadata": {},
   "outputs": [],
   "source": [
    "# scientific computing library\n",
    "import numpy as np\n",
    "\n",
    "# visualization tools\n",
    "import matplotlib.pyplot as plt\n",
    "import seaborn as sns\n",
    "\n",
    "# show plots without need of calling `.show()`\n",
    "%matplotlib inline\n",
    "\n",
    "# prettify plots\n",
    "plt.rcParams['figure.figsize'] = [20.0, 5.0]\n",
    "sns.set_palette(sns.color_palette(\"muted\"))\n",
    "sns.set_style(\"ticks\")\n",
    "\n",
    "# supress warnings\n",
    "import warnings\n",
    "warnings.filterwarnings('ignore')"
   ]
  },
  {
   "cell_type": "markdown",
   "metadata": {},
   "source": [
    "## Data"
   ]
  },
  {
   "cell_type": "code",
   "execution_count": 8,
   "metadata": {},
   "outputs": [],
   "source": [
    "# helper loader function\n",
    "loader = lambda asset: np.loadtxt('./data/%s.txt' % asset, delimiter=',')\n",
    "\n",
    "# raw data\n",
    "spy = loader('SPY')\n",
    "aapl = loader('AAPL')\n",
    "goog = loader('GOOG')"
   ]
  },
  {
   "cell_type": "code",
   "execution_count": null,
   "metadata": {},
   "outputs": [],
   "source": [
    "# number of observations\n",
    "N = \n",
    "\n",
    "# true model\n",
    "f_true =\n",
    "\n",
    "# noisy model\n",
    "f =\n",
    "\n",
    "# feature samples\n",
    "x = \n",
    "\n",
    "# true values\n",
    "y_true =\n",
    "\n",
    "# observations\n",
    "y ="
   ]
  },
  {
   "cell_type": "markdown",
   "metadata": {},
   "source": [
    "## Visualization"
   ]
  },
  {
   "cell_type": "code",
   "execution_count": null,
   "metadata": {},
   "outputs": [],
   "source": [
    "plt.plot(x, y_true, label='True')\n",
    "plt.plot(x, y, label='Observations')\n",
    "plt.legend();"
   ]
  },
  {
   "cell_type": "markdown",
   "metadata": {},
   "source": [
    "## Metric - Mean Square Error\n",
    "\n",
    "$$MSE_{f} = \\frac{1}{k} (\\mathbf{y} - \\mathbf{\\hat{y}})^{T}(\\mathbf{y} - \\mathbf{\\hat{y}})$$"
   ]
  },
  {
   "cell_type": "code",
   "execution_count": 6,
   "metadata": {},
   "outputs": [],
   "source": [
    "# helper function for mse\n",
    "mse = lambda y, y_hat: ( 0.5/len(y) ) * \\\n",
    "    np.dot( (np.asarray(y) - np.asarray(y_hat)).T, np.array(np.asarray(y) - np.asarray(y_hat)) )\n",
    "\n",
    "# random model\n",
    "w = \n",
    "y_hat = \n",
    "\n",
    "# visualize\n",
    "plt.plot(x, y_true, label='True')\n",
    "plt.plot(x, y, 'o', label='Observations')\n",
    "plt.plot(x, y_hat, label='Model')\n",
    "plt.legend();"
   ]
  },
  {
   "cell_type": "markdown",
   "metadata": {},
   "source": [
    "### Preprocess"
   ]
  },
  {
   "cell_type": "code",
   "execution_count": null,
   "metadata": {},
   "outputs": [],
   "source": [
    "X ="
   ]
  },
  {
   "cell_type": "markdown",
   "metadata": {},
   "source": [
    "## Stochastic Gradient Descent (Computational Solution)\n",
    "\n",
    "$$w_{t+1} = w_{t} - \\eta (y_{i} - w * x_{i}) x_{i}$$"
   ]
  },
  {
   "cell_type": "code",
   "execution_count": null,
   "metadata": {},
   "outputs": [],
   "source": [
    "w_sgd ="
   ]
  },
  {
   "cell_type": "markdown",
   "metadata": {},
   "source": [
    "## Maximum Likelihood Estimator (Analytic Solution)\n",
    "\n",
    "$$\\mathbf{w_{MLE}} = (\\mathbf{X}^{T} \\mathbf{X})^{-1} * \\mathbf{X}^{T} * \\mathbf{y}$$"
   ]
  },
  {
   "cell_type": "code",
   "execution_count": null,
   "metadata": {},
   "outputs": [],
   "source": [
    "w_mle = "
   ]
  },
  {
   "cell_type": "markdown",
   "metadata": {},
   "source": [
    "## Playground"
   ]
  },
  {
   "cell_type": "markdown",
   "metadata": {},
   "source": [
    "Place to try snippets of code and log the outputs."
   ]
  },
  {
   "cell_type": "code",
   "execution_count": null,
   "metadata": {},
   "outputs": [],
   "source": []
  }
 ],
 "metadata": {
  "kernelspec": {
   "display_name": "Python 3",
   "language": "python",
   "name": "python3"
  },
  "language_info": {
   "codemirror_mode": {
    "name": "ipython",
    "version": 3
   },
   "file_extension": ".py",
   "mimetype": "text/x-python",
   "name": "python",
   "nbconvert_exporter": "python",
   "pygments_lexer": "ipython3",
   "version": "3.7.4"
  }
 },
 "nbformat": 4,
 "nbformat_minor": 2
}
